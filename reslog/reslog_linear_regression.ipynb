{
 "cells": [
  {
   "cell_type": "code",
   "execution_count": 1,
   "id": "a6da0003",
   "metadata": {},
   "outputs": [],
   "source": [
    "# Import modules\n",
    "import numpy as np\n",
    "import pandas as pd\n",
    "import seaborn as sns \n",
    "import matplotlib.pyplot as plt"
   ]
  },
  {
   "cell_type": "code",
   "execution_count": 2,
   "id": "9381ded7",
   "metadata": {},
   "outputs": [
    {
     "data": {
      "text/html": [
       "<div>\n",
       "<style scoped>\n",
       "    .dataframe tbody tr th:only-of-type {\n",
       "        vertical-align: middle;\n",
       "    }\n",
       "\n",
       "    .dataframe tbody tr th {\n",
       "        vertical-align: top;\n",
       "    }\n",
       "\n",
       "    .dataframe thead th {\n",
       "        text-align: right;\n",
       "    }\n",
       "</style>\n",
       "<table border=\"1\" class=\"dataframe\">\n",
       "  <thead>\n",
       "    <tr style=\"text-align: right;\">\n",
       "      <th></th>\n",
       "      <th>batch_size</th>\n",
       "      <th>fsc_nomask</th>\n",
       "      <th>fsc_sphericalmask</th>\n",
       "      <th>fsc_loosemask</th>\n",
       "      <th>fsc_tightmask</th>\n",
       "      <th>fsc_noisesub</th>\n",
       "    </tr>\n",
       "  </thead>\n",
       "  <tbody>\n",
       "    <tr>\n",
       "      <th>0</th>\n",
       "      <td>1000</td>\n",
       "      <td>3.613450</td>\n",
       "      <td>3.397822</td>\n",
       "      <td>3.353027</td>\n",
       "      <td>3.176371</td>\n",
       "      <td>3.172318</td>\n",
       "    </tr>\n",
       "    <tr>\n",
       "      <th>1</th>\n",
       "      <td>1500</td>\n",
       "      <td>3.527686</td>\n",
       "      <td>3.311609</td>\n",
       "      <td>3.234184</td>\n",
       "      <td>3.087301</td>\n",
       "      <td>3.087129</td>\n",
       "    </tr>\n",
       "    <tr>\n",
       "      <th>2</th>\n",
       "      <td>2250</td>\n",
       "      <td>3.420741</td>\n",
       "      <td>3.207343</td>\n",
       "      <td>3.184941</td>\n",
       "      <td>3.040318</td>\n",
       "      <td>3.039041</td>\n",
       "    </tr>\n",
       "    <tr>\n",
       "      <th>3</th>\n",
       "      <td>3375</td>\n",
       "      <td>3.359389</td>\n",
       "      <td>3.164706</td>\n",
       "      <td>3.126173</td>\n",
       "      <td>3.041995</td>\n",
       "      <td>3.044875</td>\n",
       "    </tr>\n",
       "    <tr>\n",
       "      <th>4</th>\n",
       "      <td>5062</td>\n",
       "      <td>3.215116</td>\n",
       "      <td>3.105036</td>\n",
       "      <td>3.079950</td>\n",
       "      <td>3.030110</td>\n",
       "      <td>3.028857</td>\n",
       "    </tr>\n",
       "    <tr>\n",
       "      <th>5</th>\n",
       "      <td>7593</td>\n",
       "      <td>3.207822</td>\n",
       "      <td>3.097767</td>\n",
       "      <td>3.031409</td>\n",
       "      <td>2.946330</td>\n",
       "      <td>2.946980</td>\n",
       "    </tr>\n",
       "    <tr>\n",
       "      <th>6</th>\n",
       "      <td>11389</td>\n",
       "      <td>3.139944</td>\n",
       "      <td>3.052802</td>\n",
       "      <td>2.964900</td>\n",
       "      <td>2.907030</td>\n",
       "      <td>2.903185</td>\n",
       "    </tr>\n",
       "    <tr>\n",
       "      <th>7</th>\n",
       "      <td>17083</td>\n",
       "      <td>3.107264</td>\n",
       "      <td>3.022396</td>\n",
       "      <td>2.933715</td>\n",
       "      <td>2.857384</td>\n",
       "      <td>2.854736</td>\n",
       "    </tr>\n",
       "    <tr>\n",
       "      <th>8</th>\n",
       "      <td>25624</td>\n",
       "      <td>3.046798</td>\n",
       "      <td>2.936369</td>\n",
       "      <td>2.909592</td>\n",
       "      <td>2.857901</td>\n",
       "      <td>2.860223</td>\n",
       "    </tr>\n",
       "    <tr>\n",
       "      <th>9</th>\n",
       "      <td>38436</td>\n",
       "      <td>3.034671</td>\n",
       "      <td>2.907397</td>\n",
       "      <td>2.870198</td>\n",
       "      <td>2.824530</td>\n",
       "      <td>2.826296</td>\n",
       "    </tr>\n",
       "    <tr>\n",
       "      <th>10</th>\n",
       "      <td>39497</td>\n",
       "      <td>3.033193</td>\n",
       "      <td>2.904701</td>\n",
       "      <td>2.871693</td>\n",
       "      <td>2.824639</td>\n",
       "      <td>2.827281</td>\n",
       "    </tr>\n",
       "  </tbody>\n",
       "</table>\n",
       "</div>"
      ],
      "text/plain": [
       "    batch_size  fsc_nomask  fsc_sphericalmask  fsc_loosemask  fsc_tightmask  \\\n",
       "0         1000    3.613450           3.397822       3.353027       3.176371   \n",
       "1         1500    3.527686           3.311609       3.234184       3.087301   \n",
       "2         2250    3.420741           3.207343       3.184941       3.040318   \n",
       "3         3375    3.359389           3.164706       3.126173       3.041995   \n",
       "4         5062    3.215116           3.105036       3.079950       3.030110   \n",
       "5         7593    3.207822           3.097767       3.031409       2.946330   \n",
       "6        11389    3.139944           3.052802       2.964900       2.907030   \n",
       "7        17083    3.107264           3.022396       2.933715       2.857384   \n",
       "8        25624    3.046798           2.936369       2.909592       2.857901   \n",
       "9        38436    3.034671           2.907397       2.870198       2.824530   \n",
       "10       39497    3.033193           2.904701       2.871693       2.824639   \n",
       "\n",
       "    fsc_noisesub  \n",
       "0       3.172318  \n",
       "1       3.087129  \n",
       "2       3.039041  \n",
       "3       3.044875  \n",
       "4       3.028857  \n",
       "5       2.946980  \n",
       "6       2.903185  \n",
       "7       2.854736  \n",
       "8       2.860223  \n",
       "9       2.826296  \n",
       "10      2.827281  "
      ]
     },
     "execution_count": 2,
     "metadata": {},
     "output_type": "execute_result"
    }
   ],
   "source": [
    "# Loading in the data\n",
    "df = pd.read_csv('reslog.csv')\n",
    "df"
   ]
  },
  {
   "cell_type": "code",
   "execution_count": 3,
   "id": "1ad6f18c",
   "metadata": {},
   "outputs": [
    {
     "data": {
      "image/png": "[encoded data removed]",
      "text/plain": [
       "<Figure size 432x288 with 1 Axes>"
      ]
     },
     "metadata": {
      "needs_background": "light"
     },
     "output_type": "display_data"
    }
   ],
   "source": [
    "# Plotting the data with x=batch\n",
    "sns.scatterplot(data=df, x='batch_size', y='fsc_nomask')\n",
    "sns.scatterplot(data=df, x='batch_size', y='fsc_sphericalmask')\n",
    "sns.scatterplot(data=df, x='batch_size', y='fsc_loosemask')\n",
    "sns.scatterplot(data=df, x='batch_size', y='fsc_tightmask')\n",
    "sns.scatterplot(data=df, x='batch_size', y='fsc_noisesub')\n",
    "plt.ylabel('Resolution (Å)')\n",
    "plt.show()"
   ]
  },
  {
   "cell_type": "code",
   "execution_count": 4,
   "id": "15f46117",
   "metadata": {},
   "outputs": [
    {
     "data": {
      "text/html": [
       "<div>\n",
       "<style scoped>\n",
       "    .dataframe tbody tr th:only-of-type {\n",
       "        vertical-align: middle;\n",
       "    }\n",
       "\n",
       "    .dataframe tbody tr th {\n",
       "        vertical-align: top;\n",
       "    }\n",
       "\n",
       "    .dataframe thead th {\n",
       "        text-align: right;\n",
       "    }\n",
       "</style>\n",
       "<table border=\"1\" class=\"dataframe\">\n",
       "  <thead>\n",
       "    <tr style=\"text-align: right;\">\n",
       "      <th></th>\n",
       "      <th>batch_size</th>\n",
       "      <th>fsc_nomask</th>\n",
       "      <th>fsc_sphericalmask</th>\n",
       "      <th>fsc_loosemask</th>\n",
       "      <th>fsc_tightmask</th>\n",
       "      <th>fsc_noisesub</th>\n",
       "      <th>batch_size_log</th>\n",
       "    </tr>\n",
       "  </thead>\n",
       "  <tbody>\n",
       "    <tr>\n",
       "      <th>0</th>\n",
       "      <td>1000</td>\n",
       "      <td>3.613450</td>\n",
       "      <td>3.397822</td>\n",
       "      <td>3.353027</td>\n",
       "      <td>3.176371</td>\n",
       "      <td>3.172318</td>\n",
       "      <td>3.000000</td>\n",
       "    </tr>\n",
       "    <tr>\n",
       "      <th>1</th>\n",
       "      <td>1500</td>\n",
       "      <td>3.527686</td>\n",
       "      <td>3.311609</td>\n",
       "      <td>3.234184</td>\n",
       "      <td>3.087301</td>\n",
       "      <td>3.087129</td>\n",
       "      <td>3.176091</td>\n",
       "    </tr>\n",
       "    <tr>\n",
       "      <th>2</th>\n",
       "      <td>2250</td>\n",
       "      <td>3.420741</td>\n",
       "      <td>3.207343</td>\n",
       "      <td>3.184941</td>\n",
       "      <td>3.040318</td>\n",
       "      <td>3.039041</td>\n",
       "      <td>3.352183</td>\n",
       "    </tr>\n",
       "    <tr>\n",
       "      <th>3</th>\n",
       "      <td>3375</td>\n",
       "      <td>3.359389</td>\n",
       "      <td>3.164706</td>\n",
       "      <td>3.126173</td>\n",
       "      <td>3.041995</td>\n",
       "      <td>3.044875</td>\n",
       "      <td>3.528274</td>\n",
       "    </tr>\n",
       "    <tr>\n",
       "      <th>4</th>\n",
       "      <td>5062</td>\n",
       "      <td>3.215116</td>\n",
       "      <td>3.105036</td>\n",
       "      <td>3.079950</td>\n",
       "      <td>3.030110</td>\n",
       "      <td>3.028857</td>\n",
       "      <td>3.704322</td>\n",
       "    </tr>\n",
       "  </tbody>\n",
       "</table>\n",
       "</div>"
      ],
      "text/plain": [
       "   batch_size  fsc_nomask  fsc_sphericalmask  fsc_loosemask  fsc_tightmask  \\\n",
       "0        1000    3.613450           3.397822       3.353027       3.176371   \n",
       "1        1500    3.527686           3.311609       3.234184       3.087301   \n",
       "2        2250    3.420741           3.207343       3.184941       3.040318   \n",
       "3        3375    3.359389           3.164706       3.126173       3.041995   \n",
       "4        5062    3.215116           3.105036       3.079950       3.030110   \n",
       "\n",
       "   fsc_noisesub  batch_size_log  \n",
       "0      3.172318        3.000000  \n",
       "1      3.087129        3.176091  \n",
       "2      3.039041        3.352183  \n",
       "3      3.044875        3.528274  \n",
       "4      3.028857        3.704322  "
      ]
     },
     "execution_count": 4,
     "metadata": {},
     "output_type": "execute_result"
    }
   ],
   "source": [
    "# Log10 of batch to straighted graph\n",
    "df['batch_size_log'] = df['batch_size'].apply(lambda x: np.log10(x))\n",
    "df.head()"
   ]
  },
  {
   "cell_type": "code",
   "execution_count": 5,
   "id": "3d7924da",
   "metadata": {},
   "outputs": [
    {
     "data": {
      "image/png": "[encoded data removed]",
      "text/plain": [
       "<Figure size 432x288 with 1 Axes>"
      ]
     },
     "metadata": {
      "needs_background": "light"
     },
     "output_type": "display_data"
    }
   ],
   "source": [
    "# Plotting the data with x=log batch \n",
    "sns.scatterplot(data=df, x='batch_size_log', y='fsc_nomask')\n",
    "sns.scatterplot(data=df, x='batch_size_log', y='fsc_sphericalmask')\n",
    "sns.scatterplot(data=df, x='batch_size_log', y='fsc_loosemask')\n",
    "sns.scatterplot(data=df, x='batch_size_log', y='fsc_tightmask')\n",
    "sns.scatterplot(data=df, x='batch_size_log', y='fsc_noisesub')\n",
    "plt.ylabel('Resolution (Å)')\n",
    "plt.show()"
   ]
  },
  {
   "cell_type": "code",
   "execution_count": 6,
   "id": "46ea3a91",
   "metadata": {},
   "outputs": [
    {
     "name": "stdout",
     "output_type": "stream",
     "text": [
      "['fsc_nomask', 'fsc_sphericalmask', 'fsc_loosemask', 'fsc_tightmask', 'fsc_noisesub']\n",
      "['fsc_nomask_inverse', 'fsc_sphericalmask_inverse', 'fsc_loosemask_inverse', 'fsc_tightmask_inverse', 'fsc_noisesub_inverse']\n"
     ]
    }
   ],
   "source": [
    "# making new column names for inverting the resolution\n",
    "col_names = ['fsc_nomask', 'fsc_sphericalmask', 'fsc_loosemask',\n",
    "       'fsc_tightmask', 'fsc_noisesub']\n",
    "print(col_names)\n",
    "new_names = [f'{name}_inverse' for name in col_names]\n",
    "print(new_names)"
   ]
  },
  {
   "cell_type": "code",
   "execution_count": 8,
   "id": "3b67d5c2",
   "metadata": {},
   "outputs": [
    {
     "data": {
      "text/html": [
       "<div>\n",
       "<style scoped>\n",
       "    .dataframe tbody tr th:only-of-type {\n",
       "        vertical-align: middle;\n",
       "    }\n",
       "\n",
       "    .dataframe tbody tr th {\n",
       "        vertical-align: top;\n",
       "    }\n",
       "\n",
       "    .dataframe thead th {\n",
       "        text-align: right;\n",
       "    }\n",
       "</style>\n",
       "<table border=\"1\" class=\"dataframe\">\n",
       "  <thead>\n",
       "    <tr style=\"text-align: right;\">\n",
       "      <th></th>\n",
       "      <th>batch_size</th>\n",
       "      <th>fsc_nomask</th>\n",
       "      <th>fsc_sphericalmask</th>\n",
       "      <th>fsc_loosemask</th>\n",
       "      <th>fsc_tightmask</th>\n",
       "      <th>fsc_noisesub</th>\n",
       "      <th>batch_size_log</th>\n",
       "      <th>fsc_nomask_inverse</th>\n",
       "      <th>fsc_sphericalmask_inverse</th>\n",
       "      <th>fsc_loosemask_inverse</th>\n",
       "      <th>fsc_tightmask_inverse</th>\n",
       "      <th>fsc_noisesub_inverse</th>\n",
       "    </tr>\n",
       "  </thead>\n",
       "  <tbody>\n",
       "    <tr>\n",
       "      <th>0</th>\n",
       "      <td>1000</td>\n",
       "      <td>3.613450</td>\n",
       "      <td>3.397822</td>\n",
       "      <td>3.353027</td>\n",
       "      <td>3.176371</td>\n",
       "      <td>3.172318</td>\n",
       "      <td>3.000000</td>\n",
       "      <td>0.276744</td>\n",
       "      <td>0.294306</td>\n",
       "      <td>0.298238</td>\n",
       "      <td>0.314825</td>\n",
       "      <td>0.315227</td>\n",
       "    </tr>\n",
       "    <tr>\n",
       "      <th>1</th>\n",
       "      <td>1500</td>\n",
       "      <td>3.527686</td>\n",
       "      <td>3.311609</td>\n",
       "      <td>3.234184</td>\n",
       "      <td>3.087301</td>\n",
       "      <td>3.087129</td>\n",
       "      <td>3.176091</td>\n",
       "      <td>0.283472</td>\n",
       "      <td>0.301968</td>\n",
       "      <td>0.309197</td>\n",
       "      <td>0.323908</td>\n",
       "      <td>0.323926</td>\n",
       "    </tr>\n",
       "    <tr>\n",
       "      <th>2</th>\n",
       "      <td>2250</td>\n",
       "      <td>3.420741</td>\n",
       "      <td>3.207343</td>\n",
       "      <td>3.184941</td>\n",
       "      <td>3.040318</td>\n",
       "      <td>3.039041</td>\n",
       "      <td>3.352183</td>\n",
       "      <td>0.292334</td>\n",
       "      <td>0.311785</td>\n",
       "      <td>0.313978</td>\n",
       "      <td>0.328913</td>\n",
       "      <td>0.329051</td>\n",
       "    </tr>\n",
       "    <tr>\n",
       "      <th>3</th>\n",
       "      <td>3375</td>\n",
       "      <td>3.359389</td>\n",
       "      <td>3.164706</td>\n",
       "      <td>3.126173</td>\n",
       "      <td>3.041995</td>\n",
       "      <td>3.044875</td>\n",
       "      <td>3.528274</td>\n",
       "      <td>0.297673</td>\n",
       "      <td>0.315985</td>\n",
       "      <td>0.319880</td>\n",
       "      <td>0.328732</td>\n",
       "      <td>0.328421</td>\n",
       "    </tr>\n",
       "    <tr>\n",
       "      <th>4</th>\n",
       "      <td>5062</td>\n",
       "      <td>3.215116</td>\n",
       "      <td>3.105036</td>\n",
       "      <td>3.079950</td>\n",
       "      <td>3.030110</td>\n",
       "      <td>3.028857</td>\n",
       "      <td>3.704322</td>\n",
       "      <td>0.311031</td>\n",
       "      <td>0.322057</td>\n",
       "      <td>0.324681</td>\n",
       "      <td>0.330021</td>\n",
       "      <td>0.330158</td>\n",
       "    </tr>\n",
       "  </tbody>\n",
       "</table>\n",
       "</div>"
      ],
      "text/plain": [
       "   batch_size  fsc_nomask  fsc_sphericalmask  fsc_loosemask  fsc_tightmask  \\\n",
       "0        1000    3.613450           3.397822       3.353027       3.176371   \n",
       "1        1500    3.527686           3.311609       3.234184       3.087301   \n",
       "2        2250    3.420741           3.207343       3.184941       3.040318   \n",
       "3        3375    3.359389           3.164706       3.126173       3.041995   \n",
       "4        5062    3.215116           3.105036       3.079950       3.030110   \n",
       "\n",
       "   fsc_noisesub  batch_size_log  fsc_nomask_inverse  \\\n",
       "0      3.172318        3.000000            0.276744   \n",
       "1      3.087129        3.176091            0.283472   \n",
       "2      3.039041        3.352183            0.292334   \n",
       "3      3.044875        3.528274            0.297673   \n",
       "4      3.028857        3.704322            0.311031   \n",
       "\n",
       "   fsc_sphericalmask_inverse  fsc_loosemask_inverse  fsc_tightmask_inverse  \\\n",
       "0                   0.294306               0.298238               0.314825   \n",
       "1                   0.301968               0.309197               0.323908   \n",
       "2                   0.311785               0.313978               0.328913   \n",
       "3                   0.315985               0.319880               0.328732   \n",
       "4                   0.322057               0.324681               0.330021   \n",
       "\n",
       "   fsc_noisesub_inverse  \n",
       "0              0.315227  \n",
       "1              0.323926  \n",
       "2              0.329051  \n",
       "3              0.328421  \n",
       "4              0.330158  "
      ]
     },
     "execution_count": 8,
     "metadata": {},
     "output_type": "execute_result"
    }
   ],
   "source": [
    "# actual inversion of each resolution parameter\n",
    "df['fsc_nomask_inverse'] = df['fsc_nomask'].apply(lambda x: 1/x)\n",
    "df['fsc_sphericalmask_inverse'] = df['fsc_sphericalmask'].apply(lambda x: 1/x)\n",
    "df['fsc_loosemask_inverse'] = df['fsc_loosemask'].apply(lambda x: 1/x)\n",
    "df['fsc_tightmask_inverse'] = df['fsc_tightmask'].apply(lambda x: 1/x)\n",
    "df['fsc_noisesub_inverse'] = df['fsc_noisesub'].apply(lambda x: 1/x)\n",
    "df.head()"
   ]
  },
  {
   "cell_type": "code",
   "execution_count": 11,
   "id": "afa8200b",
   "metadata": {},
   "outputs": [
    {
     "data": {
      "image/png": "[encoded data removed]",
      "text/plain": [
       "<Figure size 432x288 with 1 Axes>"
      ]
     },
     "metadata": {
      "needs_background": "light"
     },
     "output_type": "display_data"
    }
   ],
   "source": [
    "# plotting each of the new transformations\n",
    "for name in new_names:\n",
    "    sns.scatterplot(data=df, x='batch_size_log', y=name)\n",
    "    plt.xscale('symlog')\n",
    "plt.ylabel('Resolution (Å)')\n",
    "plt.show()\n"
   ]
  },
  {
   "cell_type": "code",
   "execution_count": 14,
   "id": "d2d0a8b6",
   "metadata": {},
   "outputs": [],
   "source": [
    "# importing the module for linear regression\n",
    "from sklearn.linear_model import LinearRegression"
   ]
  },
  {
   "cell_type": "code",
   "execution_count": 18,
   "id": "15d23fc9",
   "metadata": {},
   "outputs": [],
   "source": [
    "# Converting the data frame values to numpy arrays\n",
    "X = np.array(df['batch_size_log'])\n",
    "# reshaping is only required for a series (single vector)\n",
    "X = X.reshape(-1,1)\n",
    "# it is not necessary to convert y to a numpy array\n",
    "y = df['fsc_noisesub_inverse']\n"
   ]
  },
  {
   "cell_type": "code",
   "execution_count": 20,
   "id": "44d7b7d8",
   "metadata": {},
   "outputs": [
    {
     "data": {
      "image/png": "[encoded data removed]",
      "text/plain": [
       "<Figure size 432x288 with 1 Axes>"
      ]
     },
     "metadata": {
      "needs_background": "light"
     },
     "output_type": "display_data"
    }
   ],
   "source": [
    "# instantiating the LR model and running it.\n",
    "model = LinearRegression()\n",
    "model.fit(X,y)\n",
    "y_predict_rgr = model.predict(X)\n",
    "plt.scatter(X, y)\n",
    "plt.plot(X, y_predict_rgr, color='orange')\n",
    "plt.xscale('symlog')\n",
    "plt.title('Reslog plot for particle # prediction per resolution')\n",
    "plt.xlabel('log10(particles)')\n",
    "plt.ylabel('Inverse Resolution (1/Å)')\n",
    "plt.show()"
   ]
  },
  {
   "cell_type": "code",
   "execution_count": 21,
   "id": "8c532124",
   "metadata": {},
   "outputs": [
    {
     "name": "stdout",
     "output_type": "stream",
     "text": [
      "3322831.0\n"
     ]
    }
   ],
   "source": [
    "# using the coefficient and intercepts to predict resolution or particle numbers\n",
    "coef = model.coef_\n",
    "intercept = model.intercept_\n",
    "resolution_required = 1/2.5\n",
    "particles = (resolution_required - intercept) / coef\n",
    "print(np.round(10**particles[0],0))"
   ]
  },
  {
   "cell_type": "code",
   "execution_count": 38,
   "id": "c8f3745e",
   "metadata": {},
   "outputs": [
    {
     "ename": "ValueError",
     "evalue": "x and y must be the same size",
     "output_type": "error",
     "traceback": [
      "\u001b[1;31m---------------------------------------------------------------------------\u001b[0m",
      "\u001b[1;31mValueError\u001b[0m                                Traceback (most recent call last)",
      "\u001b[1;32m<ipython-input-38-9ccd5cbf227d>\u001b[0m in \u001b[0;36m<module>\u001b[1;34m\u001b[0m\n\u001b[0;32m      6\u001b[0m \u001b[0mmodel\u001b[0m\u001b[1;33m.\u001b[0m\u001b[0mfit\u001b[0m\u001b[1;33m(\u001b[0m\u001b[0mX\u001b[0m\u001b[1;33m,\u001b[0m\u001b[0my\u001b[0m\u001b[1;33m)\u001b[0m\u001b[1;33m\u001b[0m\u001b[1;33m\u001b[0m\u001b[0m\n\u001b[0;32m      7\u001b[0m \u001b[0my_predict_rgr\u001b[0m \u001b[1;33m=\u001b[0m \u001b[0mmodel\u001b[0m\u001b[1;33m.\u001b[0m\u001b[0mpredict\u001b[0m\u001b[1;33m(\u001b[0m\u001b[0mX\u001b[0m\u001b[1;33m)\u001b[0m\u001b[1;33m\u001b[0m\u001b[1;33m\u001b[0m\u001b[0m\n\u001b[1;32m----> 8\u001b[1;33m \u001b[0mplt\u001b[0m\u001b[1;33m.\u001b[0m\u001b[0mscatter\u001b[0m\u001b[1;33m(\u001b[0m\u001b[0mX\u001b[0m\u001b[1;33m,\u001b[0m \u001b[0my\u001b[0m\u001b[1;33m)\u001b[0m\u001b[1;33m\u001b[0m\u001b[1;33m\u001b[0m\u001b[0m\n\u001b[0m\u001b[0;32m      9\u001b[0m \u001b[0mplt\u001b[0m\u001b[1;33m.\u001b[0m\u001b[0mplot\u001b[0m\u001b[1;33m(\u001b[0m\u001b[0mX\u001b[0m\u001b[1;33m,\u001b[0m \u001b[0my_predict_rgr\u001b[0m\u001b[1;33m,\u001b[0m \u001b[0mcolor\u001b[0m\u001b[1;33m=\u001b[0m\u001b[1;34m'orange'\u001b[0m\u001b[1;33m)\u001b[0m\u001b[1;33m\u001b[0m\u001b[1;33m\u001b[0m\u001b[0m\n\u001b[0;32m     10\u001b[0m \u001b[0mplt\u001b[0m\u001b[1;33m.\u001b[0m\u001b[0mxscale\u001b[0m\u001b[1;33m(\u001b[0m\u001b[1;34m'symlog'\u001b[0m\u001b[1;33m)\u001b[0m\u001b[1;33m\u001b[0m\u001b[1;33m\u001b[0m\u001b[0m\n",
      "\u001b[1;32m~\\anaconda3\\lib\\site-packages\\matplotlib\\pyplot.py\u001b[0m in \u001b[0;36mscatter\u001b[1;34m(x, y, s, c, marker, cmap, norm, vmin, vmax, alpha, linewidths, verts, edgecolors, plotnonfinite, data, **kwargs)\u001b[0m\n\u001b[0;32m   2888\u001b[0m         \u001b[0mverts\u001b[0m\u001b[1;33m=\u001b[0m\u001b[0mcbook\u001b[0m\u001b[1;33m.\u001b[0m\u001b[0mdeprecation\u001b[0m\u001b[1;33m.\u001b[0m\u001b[0m_deprecated_parameter\u001b[0m\u001b[1;33m,\u001b[0m\u001b[1;33m\u001b[0m\u001b[1;33m\u001b[0m\u001b[0m\n\u001b[0;32m   2889\u001b[0m         edgecolors=None, *, plotnonfinite=False, data=None, **kwargs):\n\u001b[1;32m-> 2890\u001b[1;33m     __ret = gca().scatter(\n\u001b[0m\u001b[0;32m   2891\u001b[0m         \u001b[0mx\u001b[0m\u001b[1;33m,\u001b[0m \u001b[0my\u001b[0m\u001b[1;33m,\u001b[0m \u001b[0ms\u001b[0m\u001b[1;33m=\u001b[0m\u001b[0ms\u001b[0m\u001b[1;33m,\u001b[0m \u001b[0mc\u001b[0m\u001b[1;33m=\u001b[0m\u001b[0mc\u001b[0m\u001b[1;33m,\u001b[0m \u001b[0mmarker\u001b[0m\u001b[1;33m=\u001b[0m\u001b[0mmarker\u001b[0m\u001b[1;33m,\u001b[0m \u001b[0mcmap\u001b[0m\u001b[1;33m=\u001b[0m\u001b[0mcmap\u001b[0m\u001b[1;33m,\u001b[0m \u001b[0mnorm\u001b[0m\u001b[1;33m=\u001b[0m\u001b[0mnorm\u001b[0m\u001b[1;33m,\u001b[0m\u001b[1;33m\u001b[0m\u001b[1;33m\u001b[0m\u001b[0m\n\u001b[0;32m   2892\u001b[0m         \u001b[0mvmin\u001b[0m\u001b[1;33m=\u001b[0m\u001b[0mvmin\u001b[0m\u001b[1;33m,\u001b[0m \u001b[0mvmax\u001b[0m\u001b[1;33m=\u001b[0m\u001b[0mvmax\u001b[0m\u001b[1;33m,\u001b[0m \u001b[0malpha\u001b[0m\u001b[1;33m=\u001b[0m\u001b[0malpha\u001b[0m\u001b[1;33m,\u001b[0m \u001b[0mlinewidths\u001b[0m\u001b[1;33m=\u001b[0m\u001b[0mlinewidths\u001b[0m\u001b[1;33m,\u001b[0m\u001b[1;33m\u001b[0m\u001b[1;33m\u001b[0m\u001b[0m\n",
      "\u001b[1;32m~\\anaconda3\\lib\\site-packages\\matplotlib\\__init__.py\u001b[0m in \u001b[0;36minner\u001b[1;34m(ax, data, *args, **kwargs)\u001b[0m\n\u001b[0;32m   1445\u001b[0m     \u001b[1;32mdef\u001b[0m \u001b[0minner\u001b[0m\u001b[1;33m(\u001b[0m\u001b[0max\u001b[0m\u001b[1;33m,\u001b[0m \u001b[1;33m*\u001b[0m\u001b[0margs\u001b[0m\u001b[1;33m,\u001b[0m \u001b[0mdata\u001b[0m\u001b[1;33m=\u001b[0m\u001b[1;32mNone\u001b[0m\u001b[1;33m,\u001b[0m \u001b[1;33m**\u001b[0m\u001b[0mkwargs\u001b[0m\u001b[1;33m)\u001b[0m\u001b[1;33m:\u001b[0m\u001b[1;33m\u001b[0m\u001b[1;33m\u001b[0m\u001b[0m\n\u001b[0;32m   1446\u001b[0m         \u001b[1;32mif\u001b[0m \u001b[0mdata\u001b[0m \u001b[1;32mis\u001b[0m \u001b[1;32mNone\u001b[0m\u001b[1;33m:\u001b[0m\u001b[1;33m\u001b[0m\u001b[1;33m\u001b[0m\u001b[0m\n\u001b[1;32m-> 1447\u001b[1;33m             \u001b[1;32mreturn\u001b[0m \u001b[0mfunc\u001b[0m\u001b[1;33m(\u001b[0m\u001b[0max\u001b[0m\u001b[1;33m,\u001b[0m \u001b[1;33m*\u001b[0m\u001b[0mmap\u001b[0m\u001b[1;33m(\u001b[0m\u001b[0msanitize_sequence\u001b[0m\u001b[1;33m,\u001b[0m \u001b[0margs\u001b[0m\u001b[1;33m)\u001b[0m\u001b[1;33m,\u001b[0m \u001b[1;33m**\u001b[0m\u001b[0mkwargs\u001b[0m\u001b[1;33m)\u001b[0m\u001b[1;33m\u001b[0m\u001b[1;33m\u001b[0m\u001b[0m\n\u001b[0m\u001b[0;32m   1448\u001b[0m \u001b[1;33m\u001b[0m\u001b[0m\n\u001b[0;32m   1449\u001b[0m         \u001b[0mbound\u001b[0m \u001b[1;33m=\u001b[0m \u001b[0mnew_sig\u001b[0m\u001b[1;33m.\u001b[0m\u001b[0mbind\u001b[0m\u001b[1;33m(\u001b[0m\u001b[0max\u001b[0m\u001b[1;33m,\u001b[0m \u001b[1;33m*\u001b[0m\u001b[0margs\u001b[0m\u001b[1;33m,\u001b[0m \u001b[1;33m**\u001b[0m\u001b[0mkwargs\u001b[0m\u001b[1;33m)\u001b[0m\u001b[1;33m\u001b[0m\u001b[1;33m\u001b[0m\u001b[0m\n",
      "\u001b[1;32m~\\anaconda3\\lib\\site-packages\\matplotlib\\cbook\\deprecation.py\u001b[0m in \u001b[0;36mwrapper\u001b[1;34m(*inner_args, **inner_kwargs)\u001b[0m\n\u001b[0;32m    409\u001b[0m                          \u001b[1;32melse\u001b[0m \u001b[0mdeprecation_addendum\u001b[0m\u001b[1;33m,\u001b[0m\u001b[1;33m\u001b[0m\u001b[1;33m\u001b[0m\u001b[0m\n\u001b[0;32m    410\u001b[0m                 **kwargs)\n\u001b[1;32m--> 411\u001b[1;33m         \u001b[1;32mreturn\u001b[0m \u001b[0mfunc\u001b[0m\u001b[1;33m(\u001b[0m\u001b[1;33m*\u001b[0m\u001b[0minner_args\u001b[0m\u001b[1;33m,\u001b[0m \u001b[1;33m**\u001b[0m\u001b[0minner_kwargs\u001b[0m\u001b[1;33m)\u001b[0m\u001b[1;33m\u001b[0m\u001b[1;33m\u001b[0m\u001b[0m\n\u001b[0m\u001b[0;32m    412\u001b[0m \u001b[1;33m\u001b[0m\u001b[0m\n\u001b[0;32m    413\u001b[0m     \u001b[1;32mreturn\u001b[0m \u001b[0mwrapper\u001b[0m\u001b[1;33m\u001b[0m\u001b[1;33m\u001b[0m\u001b[0m\n",
      "\u001b[1;32m~\\anaconda3\\lib\\site-packages\\matplotlib\\axes\\_axes.py\u001b[0m in \u001b[0;36mscatter\u001b[1;34m(self, x, y, s, c, marker, cmap, norm, vmin, vmax, alpha, linewidths, verts, edgecolors, plotnonfinite, **kwargs)\u001b[0m\n\u001b[0;32m   4439\u001b[0m         \u001b[0my\u001b[0m \u001b[1;33m=\u001b[0m \u001b[0mnp\u001b[0m\u001b[1;33m.\u001b[0m\u001b[0mma\u001b[0m\u001b[1;33m.\u001b[0m\u001b[0mravel\u001b[0m\u001b[1;33m(\u001b[0m\u001b[0my\u001b[0m\u001b[1;33m)\u001b[0m\u001b[1;33m\u001b[0m\u001b[1;33m\u001b[0m\u001b[0m\n\u001b[0;32m   4440\u001b[0m         \u001b[1;32mif\u001b[0m \u001b[0mx\u001b[0m\u001b[1;33m.\u001b[0m\u001b[0msize\u001b[0m \u001b[1;33m!=\u001b[0m \u001b[0my\u001b[0m\u001b[1;33m.\u001b[0m\u001b[0msize\u001b[0m\u001b[1;33m:\u001b[0m\u001b[1;33m\u001b[0m\u001b[1;33m\u001b[0m\u001b[0m\n\u001b[1;32m-> 4441\u001b[1;33m             \u001b[1;32mraise\u001b[0m \u001b[0mValueError\u001b[0m\u001b[1;33m(\u001b[0m\u001b[1;34m\"x and y must be the same size\"\u001b[0m\u001b[1;33m)\u001b[0m\u001b[1;33m\u001b[0m\u001b[1;33m\u001b[0m\u001b[0m\n\u001b[0m\u001b[0;32m   4442\u001b[0m \u001b[1;33m\u001b[0m\u001b[0m\n\u001b[0;32m   4443\u001b[0m         \u001b[1;32mif\u001b[0m \u001b[0ms\u001b[0m \u001b[1;32mis\u001b[0m \u001b[1;32mNone\u001b[0m\u001b[1;33m:\u001b[0m\u001b[1;33m\u001b[0m\u001b[1;33m\u001b[0m\u001b[0m\n",
      "\u001b[1;31mValueError\u001b[0m: x and y must be the same size"
     ]
    },
    {
     "data": {
      "image/png": "[encoded data removed]",
      "text/plain": [
       "<Figure size 432x288 with 1 Axes>"
      ]
     },
     "metadata": {
      "needs_background": "light"
     },
     "output_type": "display_data"
    }
   ],
   "source": [
    "# using all points\n",
    "X = df[new_names]\n",
    "# X = X.reshape(-1,1)\n",
    "\n",
    "model_big = LinearRegression()\n",
    "model.fit(X,y)\n",
    "y_predict_rgr = model.predict(X)\n",
    "plt.scatter(X, y)\n",
    "plt.plot(X, y_predict_rgr, color='orange')\n",
    "plt.xscale('symlog')\n",
    "plt.title('Reslog plot for particle # prediction per resolution')\n",
    "plt.xlabel('log10(particles)')\n",
    "plt.ylabel('Inverse Resolution (1/Å)')\n",
    "plt.show()"
   ]
  },
  {
   "cell_type": "code",
   "execution_count": 28,
   "id": "c22fe5ad",
   "metadata": {},
   "outputs": [
    {
     "data": {
      "text/html": [
       "<div>\n",
       "<style scoped>\n",
       "    .dataframe tbody tr th:only-of-type {\n",
       "        vertical-align: middle;\n",
       "    }\n",
       "\n",
       "    .dataframe tbody tr th {\n",
       "        vertical-align: top;\n",
       "    }\n",
       "\n",
       "    .dataframe thead th {\n",
       "        text-align: right;\n",
       "    }\n",
       "</style>\n",
       "<table border=\"1\" class=\"dataframe\">\n",
       "  <thead>\n",
       "    <tr style=\"text-align: right;\">\n",
       "      <th></th>\n",
       "      <th>fsc_nomask_inverse</th>\n",
       "      <th>fsc_sphericalmask_inverse</th>\n",
       "      <th>fsc_loosemask_inverse</th>\n",
       "      <th>fsc_tightmask_inverse</th>\n",
       "      <th>fsc_noisesub_inverse</th>\n",
       "    </tr>\n",
       "  </thead>\n",
       "  <tbody>\n",
       "    <tr>\n",
       "      <th>0</th>\n",
       "      <td>0.276744</td>\n",
       "      <td>0.294306</td>\n",
       "      <td>0.298238</td>\n",
       "      <td>0.314825</td>\n",
       "      <td>0.315227</td>\n",
       "    </tr>\n",
       "    <tr>\n",
       "      <th>1</th>\n",
       "      <td>0.283472</td>\n",
       "      <td>0.301968</td>\n",
       "      <td>0.309197</td>\n",
       "      <td>0.323908</td>\n",
       "      <td>0.323926</td>\n",
       "    </tr>\n",
       "    <tr>\n",
       "      <th>2</th>\n",
       "      <td>0.292334</td>\n",
       "      <td>0.311785</td>\n",
       "      <td>0.313978</td>\n",
       "      <td>0.328913</td>\n",
       "      <td>0.329051</td>\n",
       "    </tr>\n",
       "    <tr>\n",
       "      <th>3</th>\n",
       "      <td>0.297673</td>\n",
       "      <td>0.315985</td>\n",
       "      <td>0.319880</td>\n",
       "      <td>0.328732</td>\n",
       "      <td>0.328421</td>\n",
       "    </tr>\n",
       "    <tr>\n",
       "      <th>4</th>\n",
       "      <td>0.311031</td>\n",
       "      <td>0.322057</td>\n",
       "      <td>0.324681</td>\n",
       "      <td>0.330021</td>\n",
       "      <td>0.330158</td>\n",
       "    </tr>\n",
       "    <tr>\n",
       "      <th>5</th>\n",
       "      <td>0.311738</td>\n",
       "      <td>0.322813</td>\n",
       "      <td>0.329880</td>\n",
       "      <td>0.339405</td>\n",
       "      <td>0.339330</td>\n",
       "    </tr>\n",
       "    <tr>\n",
       "      <th>6</th>\n",
       "      <td>0.318477</td>\n",
       "      <td>0.327568</td>\n",
       "      <td>0.337280</td>\n",
       "      <td>0.343994</td>\n",
       "      <td>0.344449</td>\n",
       "    </tr>\n",
       "    <tr>\n",
       "      <th>7</th>\n",
       "      <td>0.321827</td>\n",
       "      <td>0.330863</td>\n",
       "      <td>0.340865</td>\n",
       "      <td>0.349970</td>\n",
       "      <td>0.350295</td>\n",
       "    </tr>\n",
       "    <tr>\n",
       "      <th>8</th>\n",
       "      <td>0.328213</td>\n",
       "      <td>0.340557</td>\n",
       "      <td>0.343691</td>\n",
       "      <td>0.349907</td>\n",
       "      <td>0.349623</td>\n",
       "    </tr>\n",
       "    <tr>\n",
       "      <th>9</th>\n",
       "      <td>0.329525</td>\n",
       "      <td>0.343950</td>\n",
       "      <td>0.348408</td>\n",
       "      <td>0.354041</td>\n",
       "      <td>0.353820</td>\n",
       "    </tr>\n",
       "    <tr>\n",
       "      <th>10</th>\n",
       "      <td>0.329686</td>\n",
       "      <td>0.344270</td>\n",
       "      <td>0.348227</td>\n",
       "      <td>0.354028</td>\n",
       "      <td>0.353697</td>\n",
       "    </tr>\n",
       "  </tbody>\n",
       "</table>\n",
       "</div>"
      ],
      "text/plain": [
       "    fsc_nomask_inverse  fsc_sphericalmask_inverse  fsc_loosemask_inverse  \\\n",
       "0             0.276744                   0.294306               0.298238   \n",
       "1             0.283472                   0.301968               0.309197   \n",
       "2             0.292334                   0.311785               0.313978   \n",
       "3             0.297673                   0.315985               0.319880   \n",
       "4             0.311031                   0.322057               0.324681   \n",
       "5             0.311738                   0.322813               0.329880   \n",
       "6             0.318477                   0.327568               0.337280   \n",
       "7             0.321827                   0.330863               0.340865   \n",
       "8             0.328213                   0.340557               0.343691   \n",
       "9             0.329525                   0.343950               0.348408   \n",
       "10            0.329686                   0.344270               0.348227   \n",
       "\n",
       "    fsc_tightmask_inverse  fsc_noisesub_inverse  \n",
       "0                0.314825              0.315227  \n",
       "1                0.323908              0.323926  \n",
       "2                0.328913              0.329051  \n",
       "3                0.328732              0.328421  \n",
       "4                0.330021              0.330158  \n",
       "5                0.339405              0.339330  \n",
       "6                0.343994              0.344449  \n",
       "7                0.349970              0.350295  \n",
       "8                0.349907              0.349623  \n",
       "9                0.354041              0.353820  \n",
       "10               0.354028              0.353697  "
      ]
     },
     "execution_count": 28,
     "metadata": {},
     "output_type": "execute_result"
    }
   ],
   "source": [
    "X"
   ]
  },
  {
   "cell_type": "code",
   "execution_count": 48,
   "id": "1737cb3d",
   "metadata": {},
   "outputs": [],
   "source": [
    "from sklearn.model_selection import train_test_split\n",
    "# splitting the data\n",
    "X_train, X_test, y_train, y_test = train_test_split(X, y, test_size = 0.2, random_state = 42)"
   ]
  },
  {
   "cell_type": "code",
   "execution_count": 49,
   "id": "e6c95445",
   "metadata": {},
   "outputs": [
    {
     "data": {
      "text/plain": [
       "8"
      ]
     },
     "execution_count": 49,
     "metadata": {},
     "output_type": "execute_result"
    }
   ],
   "source": [
    "y_train.size"
   ]
  },
  {
   "cell_type": "code",
   "execution_count": 50,
   "id": "6dc8ede4",
   "metadata": {},
   "outputs": [
    {
     "data": {
      "text/plain": [
       "40"
      ]
     },
     "execution_count": 50,
     "metadata": {},
     "output_type": "execute_result"
    }
   ],
   "source": [
    "X_train.size"
   ]
  },
  {
   "cell_type": "code",
   "execution_count": 51,
   "id": "d9dcd77f",
   "metadata": {},
   "outputs": [],
   "source": [
    "LR = LinearRegression()\n",
    "# fitting the training data\n",
    "LR.fit(X_train,y_train)\n",
    "y_prediction =  LR.predict(X_test)\n"
   ]
  },
  {
   "cell_type": "code",
   "execution_count": 53,
   "id": "66e4eb29",
   "metadata": {},
   "outputs": [
    {
     "name": "stdout",
     "output_type": "stream",
     "text": [
      "15 3\n"
     ]
    }
   ],
   "source": [
    "print(X_test.size, y_prediction.size)"
   ]
  },
  {
   "cell_type": "code",
   "execution_count": 52,
   "id": "ae1c7afd",
   "metadata": {},
   "outputs": [
    {
     "ename": "ValueError",
     "evalue": "x and y must be the same size",
     "output_type": "error",
     "traceback": [
      "\u001b[1;31m---------------------------------------------------------------------------\u001b[0m",
      "\u001b[1;31mValueError\u001b[0m                                Traceback (most recent call last)",
      "\u001b[1;32m<ipython-input-52-89bbe6cb26af>\u001b[0m in \u001b[0;36m<module>\u001b[1;34m\u001b[0m\n\u001b[1;32m----> 1\u001b[1;33m \u001b[0mplt\u001b[0m\u001b[1;33m.\u001b[0m\u001b[0mscatter\u001b[0m\u001b[1;33m(\u001b[0m\u001b[0mX_test\u001b[0m\u001b[1;33m,\u001b[0m \u001b[0my_prediction\u001b[0m\u001b[1;33m)\u001b[0m\u001b[1;33m\u001b[0m\u001b[1;33m\u001b[0m\u001b[0m\n\u001b[0m",
      "\u001b[1;32m~\\anaconda3\\lib\\site-packages\\matplotlib\\pyplot.py\u001b[0m in \u001b[0;36mscatter\u001b[1;34m(x, y, s, c, marker, cmap, norm, vmin, vmax, alpha, linewidths, verts, edgecolors, plotnonfinite, data, **kwargs)\u001b[0m\n\u001b[0;32m   2888\u001b[0m         \u001b[0mverts\u001b[0m\u001b[1;33m=\u001b[0m\u001b[0mcbook\u001b[0m\u001b[1;33m.\u001b[0m\u001b[0mdeprecation\u001b[0m\u001b[1;33m.\u001b[0m\u001b[0m_deprecated_parameter\u001b[0m\u001b[1;33m,\u001b[0m\u001b[1;33m\u001b[0m\u001b[1;33m\u001b[0m\u001b[0m\n\u001b[0;32m   2889\u001b[0m         edgecolors=None, *, plotnonfinite=False, data=None, **kwargs):\n\u001b[1;32m-> 2890\u001b[1;33m     __ret = gca().scatter(\n\u001b[0m\u001b[0;32m   2891\u001b[0m         \u001b[0mx\u001b[0m\u001b[1;33m,\u001b[0m \u001b[0my\u001b[0m\u001b[1;33m,\u001b[0m \u001b[0ms\u001b[0m\u001b[1;33m=\u001b[0m\u001b[0ms\u001b[0m\u001b[1;33m,\u001b[0m \u001b[0mc\u001b[0m\u001b[1;33m=\u001b[0m\u001b[0mc\u001b[0m\u001b[1;33m,\u001b[0m \u001b[0mmarker\u001b[0m\u001b[1;33m=\u001b[0m\u001b[0mmarker\u001b[0m\u001b[1;33m,\u001b[0m \u001b[0mcmap\u001b[0m\u001b[1;33m=\u001b[0m\u001b[0mcmap\u001b[0m\u001b[1;33m,\u001b[0m \u001b[0mnorm\u001b[0m\u001b[1;33m=\u001b[0m\u001b[0mnorm\u001b[0m\u001b[1;33m,\u001b[0m\u001b[1;33m\u001b[0m\u001b[1;33m\u001b[0m\u001b[0m\n\u001b[0;32m   2892\u001b[0m         \u001b[0mvmin\u001b[0m\u001b[1;33m=\u001b[0m\u001b[0mvmin\u001b[0m\u001b[1;33m,\u001b[0m \u001b[0mvmax\u001b[0m\u001b[1;33m=\u001b[0m\u001b[0mvmax\u001b[0m\u001b[1;33m,\u001b[0m \u001b[0malpha\u001b[0m\u001b[1;33m=\u001b[0m\u001b[0malpha\u001b[0m\u001b[1;33m,\u001b[0m \u001b[0mlinewidths\u001b[0m\u001b[1;33m=\u001b[0m\u001b[0mlinewidths\u001b[0m\u001b[1;33m,\u001b[0m\u001b[1;33m\u001b[0m\u001b[1;33m\u001b[0m\u001b[0m\n",
      "\u001b[1;32m~\\anaconda3\\lib\\site-packages\\matplotlib\\__init__.py\u001b[0m in \u001b[0;36minner\u001b[1;34m(ax, data, *args, **kwargs)\u001b[0m\n\u001b[0;32m   1445\u001b[0m     \u001b[1;32mdef\u001b[0m \u001b[0minner\u001b[0m\u001b[1;33m(\u001b[0m\u001b[0max\u001b[0m\u001b[1;33m,\u001b[0m \u001b[1;33m*\u001b[0m\u001b[0margs\u001b[0m\u001b[1;33m,\u001b[0m \u001b[0mdata\u001b[0m\u001b[1;33m=\u001b[0m\u001b[1;32mNone\u001b[0m\u001b[1;33m,\u001b[0m \u001b[1;33m**\u001b[0m\u001b[0mkwargs\u001b[0m\u001b[1;33m)\u001b[0m\u001b[1;33m:\u001b[0m\u001b[1;33m\u001b[0m\u001b[1;33m\u001b[0m\u001b[0m\n\u001b[0;32m   1446\u001b[0m         \u001b[1;32mif\u001b[0m \u001b[0mdata\u001b[0m \u001b[1;32mis\u001b[0m \u001b[1;32mNone\u001b[0m\u001b[1;33m:\u001b[0m\u001b[1;33m\u001b[0m\u001b[1;33m\u001b[0m\u001b[0m\n\u001b[1;32m-> 1447\u001b[1;33m             \u001b[1;32mreturn\u001b[0m \u001b[0mfunc\u001b[0m\u001b[1;33m(\u001b[0m\u001b[0max\u001b[0m\u001b[1;33m,\u001b[0m \u001b[1;33m*\u001b[0m\u001b[0mmap\u001b[0m\u001b[1;33m(\u001b[0m\u001b[0msanitize_sequence\u001b[0m\u001b[1;33m,\u001b[0m \u001b[0margs\u001b[0m\u001b[1;33m)\u001b[0m\u001b[1;33m,\u001b[0m \u001b[1;33m**\u001b[0m\u001b[0mkwargs\u001b[0m\u001b[1;33m)\u001b[0m\u001b[1;33m\u001b[0m\u001b[1;33m\u001b[0m\u001b[0m\n\u001b[0m\u001b[0;32m   1448\u001b[0m \u001b[1;33m\u001b[0m\u001b[0m\n\u001b[0;32m   1449\u001b[0m         \u001b[0mbound\u001b[0m \u001b[1;33m=\u001b[0m \u001b[0mnew_sig\u001b[0m\u001b[1;33m.\u001b[0m\u001b[0mbind\u001b[0m\u001b[1;33m(\u001b[0m\u001b[0max\u001b[0m\u001b[1;33m,\u001b[0m \u001b[1;33m*\u001b[0m\u001b[0margs\u001b[0m\u001b[1;33m,\u001b[0m \u001b[1;33m**\u001b[0m\u001b[0mkwargs\u001b[0m\u001b[1;33m)\u001b[0m\u001b[1;33m\u001b[0m\u001b[1;33m\u001b[0m\u001b[0m\n",
      "\u001b[1;32m~\\anaconda3\\lib\\site-packages\\matplotlib\\cbook\\deprecation.py\u001b[0m in \u001b[0;36mwrapper\u001b[1;34m(*inner_args, **inner_kwargs)\u001b[0m\n\u001b[0;32m    409\u001b[0m                          \u001b[1;32melse\u001b[0m \u001b[0mdeprecation_addendum\u001b[0m\u001b[1;33m,\u001b[0m\u001b[1;33m\u001b[0m\u001b[1;33m\u001b[0m\u001b[0m\n\u001b[0;32m    410\u001b[0m                 **kwargs)\n\u001b[1;32m--> 411\u001b[1;33m         \u001b[1;32mreturn\u001b[0m \u001b[0mfunc\u001b[0m\u001b[1;33m(\u001b[0m\u001b[1;33m*\u001b[0m\u001b[0minner_args\u001b[0m\u001b[1;33m,\u001b[0m \u001b[1;33m**\u001b[0m\u001b[0minner_kwargs\u001b[0m\u001b[1;33m)\u001b[0m\u001b[1;33m\u001b[0m\u001b[1;33m\u001b[0m\u001b[0m\n\u001b[0m\u001b[0;32m    412\u001b[0m \u001b[1;33m\u001b[0m\u001b[0m\n\u001b[0;32m    413\u001b[0m     \u001b[1;32mreturn\u001b[0m \u001b[0mwrapper\u001b[0m\u001b[1;33m\u001b[0m\u001b[1;33m\u001b[0m\u001b[0m\n",
      "\u001b[1;32m~\\anaconda3\\lib\\site-packages\\matplotlib\\axes\\_axes.py\u001b[0m in \u001b[0;36mscatter\u001b[1;34m(self, x, y, s, c, marker, cmap, norm, vmin, vmax, alpha, linewidths, verts, edgecolors, plotnonfinite, **kwargs)\u001b[0m\n\u001b[0;32m   4439\u001b[0m         \u001b[0my\u001b[0m \u001b[1;33m=\u001b[0m \u001b[0mnp\u001b[0m\u001b[1;33m.\u001b[0m\u001b[0mma\u001b[0m\u001b[1;33m.\u001b[0m\u001b[0mravel\u001b[0m\u001b[1;33m(\u001b[0m\u001b[0my\u001b[0m\u001b[1;33m)\u001b[0m\u001b[1;33m\u001b[0m\u001b[1;33m\u001b[0m\u001b[0m\n\u001b[0;32m   4440\u001b[0m         \u001b[1;32mif\u001b[0m \u001b[0mx\u001b[0m\u001b[1;33m.\u001b[0m\u001b[0msize\u001b[0m \u001b[1;33m!=\u001b[0m \u001b[0my\u001b[0m\u001b[1;33m.\u001b[0m\u001b[0msize\u001b[0m\u001b[1;33m:\u001b[0m\u001b[1;33m\u001b[0m\u001b[1;33m\u001b[0m\u001b[0m\n\u001b[1;32m-> 4441\u001b[1;33m             \u001b[1;32mraise\u001b[0m \u001b[0mValueError\u001b[0m\u001b[1;33m(\u001b[0m\u001b[1;34m\"x and y must be the same size\"\u001b[0m\u001b[1;33m)\u001b[0m\u001b[1;33m\u001b[0m\u001b[1;33m\u001b[0m\u001b[0m\n\u001b[0m\u001b[0;32m   4442\u001b[0m \u001b[1;33m\u001b[0m\u001b[0m\n\u001b[0;32m   4443\u001b[0m         \u001b[1;32mif\u001b[0m \u001b[0ms\u001b[0m \u001b[1;32mis\u001b[0m \u001b[1;32mNone\u001b[0m\u001b[1;33m:\u001b[0m\u001b[1;33m\u001b[0m\u001b[1;33m\u001b[0m\u001b[0m\n",
      "\u001b[1;31mValueError\u001b[0m: x and y must be the same size"
     ]
    },
    {
     "data": {
      "image/png": "[encoded data removed]",
      "text/plain": [
       "<Figure size 432x288 with 1 Axes>"
      ]
     },
     "metadata": {
      "needs_background": "light"
     },
     "output_type": "display_data"
    }
   ],
   "source": [
    "plt.scatter(X_test, y_prediction)"
   ]
  }
 ],
 "metadata": {
  "kernelspec": {
   "display_name": "Python 3",
   "language": "python",
   "name": "python3"
  },
  "language_info": {
   "codemirror_mode": {
    "name": "ipython",
    "version": 3
   },
   "file_extension": ".py",
   "mimetype": "text/x-python",
   "name": "python",
   "nbconvert_exporter": "python",
   "pygments_lexer": "ipython3",
   "version": "3.8.8"
  }
 },
 "nbformat": 4,
 "nbformat_minor": 5
}
